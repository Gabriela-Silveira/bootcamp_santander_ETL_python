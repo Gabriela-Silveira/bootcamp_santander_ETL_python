{
  "nbformat": 4,
  "nbformat_minor": 0,
  "metadata": {
    "colab": {
      "provenance": [],
      "authorship_tag": "ABX9TyNG4wMjjS/hn+LjmVF9+PLP",
      "include_colab_link": true
    },
    "kernelspec": {
      "name": "python3",
      "display_name": "Python 3"
    },
    "language_info": {
      "name": "python"
    }
  },
  "cells": [
    {
      "cell_type": "markdown",
      "metadata": {
        "id": "view-in-github",
        "colab_type": "text"
      },
      "source": [
        "<a href=\"https://colab.research.google.com/github/Gabriela-Silveira/bootcamp_santander_ETL_python/blob/main/ETL_conversao_moedas.ipynb\" target=\"_parent\"><img src=\"https://colab.research.google.com/assets/colab-badge.svg\" alt=\"Open In Colab\"/></a>"
      ]
    },
    {
      "cell_type": "markdown",
      "source": [
        "**EXTRACT**\n",
        "\n",
        "-Extrair a lista de valores dos produtos a partir do arquivo cadastrodeprodutos.csv\n",
        "\n",
        "-Caso não tenha a biblioteca pandas instalada digite no terminal: pip install pandas"
      ],
      "metadata": {
        "id": "lLlJdE96vVQX"
      }
    },
    {
      "cell_type": "code",
      "execution_count": 1,
      "metadata": {
        "id": "Cvm-FJEBiHPf"
      },
      "outputs": [],
      "source": [
        "import pandas as pd\n",
        "\n",
        "df = pd.read_csv('cadastrodeprodutos.csv', delimiter=';', decimal='.')\n",
        "valor_real = df['Valor em Real']\n",
        "valor_dolar = df['Valor em Dolar']\n",
        "valor_euro = df['Valor em Euro']\n"
      ]
    },
    {
      "cell_type": "markdown",
      "source": [
        "**TRANSFORM**\n",
        "\n",
        "-Utilizar a API da Awesome de cotação de moedas para tranformar a moeda Real em Dólar e Euro.\n",
        "\n",
        "-Documentação oficial da API: https://docs.awesomeapi.com.br/api-de-moedas"
      ],
      "metadata": {
        "id": "ANG003ff5q7y"
      }
    },
    {
      "cell_type": "markdown",
      "source": [],
      "metadata": {
        "id": "SXGYzbra-4Ld"
      }
    },
    {
      "cell_type": "code",
      "source": [
        "import requests\n",
        "\n",
        "def taxas_de_cambio():\n",
        "    api_url = 'https://economia.awesomeapi.com.br/last/USD-BRL,EUR-BRL'\n",
        "    response = requests.get(api_url)\n",
        "\n",
        "    if response.status_code == 200:\n",
        "        data = response.json()\n",
        "        return data\n",
        "    else:\n",
        "        print(\"Não foi possível obter as taxas de câmbio da API.\")\n",
        "        return None\n",
        "\n",
        "def converter_valores(valor_real, taxas_de_cambio):\n",
        "    taxa_dolar = float(taxas_de_cambio['USDBRL']['ask']) # Verifica o valor para conversão do dólar\n",
        "    taxa_euro = float(taxas_de_cambio['EURBRL']['ask']) # Verifica o valor para conversão do euro\n",
        "\n",
        "    # Conversão do valor real\n",
        "    valor_dolar = valor_real / taxa_dolar\n",
        "    valor_euro = valor_real / taxa_euro\n",
        "    return valor_dolar, valor_euro\n",
        "\n",
        "taxas_de_cambio = taxas_de_cambio()"
      ],
      "metadata": {
        "id": "WbTSNud85ayY"
      },
      "execution_count": 2,
      "outputs": []
    },
    {
      "cell_type": "markdown",
      "source": [
        "**LOAD**\n",
        "\n",
        "Atualiza os valores do arquivo csv de cadastro dos produtos."
      ],
      "metadata": {
        "id": "8zXCC2qbD-pG"
      }
    },
    {
      "cell_type": "code",
      "source": [
        "if taxas_de_cambio:\n",
        "    valor_dolar, valor_euro = converter_valores(valor_real, taxas_de_cambio)\n",
        "\n",
        "    # Atualiza as colunas de valores convertidos no DataFrame original\n",
        "    df['Valor em Dolar'] = valor_dolar\n",
        "    df['Valor em Euro'] = valor_euro\n",
        "\n",
        "    print(df)\n",
        "\n",
        "    # Salva o DataFrame atualizado de volta no arquivo CSV original\n",
        "    df.to_csv('cadastrodeprodutos.csv', index=False)\n",
        "else:\n",
        "    print(\"Não foi possível obter as taxas de câmbio. Verifique sua conexão com a internet ou a URL da API.\")\n"
      ],
      "metadata": {
        "colab": {
          "base_uri": "https://localhost:8080/"
        },
        "id": "_QA-0S3FD9tl",
        "outputId": "24cead4c-d1aa-400c-b6e8-3cfd19bd2ae4"
      },
      "execution_count": 3,
      "outputs": [
        {
          "output_type": "stream",
          "name": "stdout",
          "text": [
            "   IdProduto           Produto  Valor em Real  Valor em Dolar  Valor em Euro\n",
            "0          1   Camiseta Branca          29.99        6.156594       5.779200\n",
            "1          2   Tênis Esportivo         149.99       30.791181      28.903706\n",
            "2          3        Smartphone         999.00      205.082936     192.511514\n",
            "3          4    Livro Aventura          39.95        8.201265       7.698534\n",
            "4          5        Headphones          79.99       16.421005      15.414410\n",
            "5          6       Calça Jeans          69.50       14.267532      13.392943\n",
            "6          7           Mochila          49.99       10.262358       9.633284\n",
            "7          8           Perfume          89.95       18.465676      17.333744\n",
            "8          9  Relógio de Pulso         199.99       41.055592      38.538917\n",
            "9         10     Óculos de Sol          59.99       12.315241      11.560326\n"
          ]
        }
      ]
    }
  ]
}